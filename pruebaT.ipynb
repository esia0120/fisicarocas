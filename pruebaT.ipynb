{
 "cells": [
  {
   "cell_type": "markdown",
   "metadata": {},
   "source": [
    "# Prueba t `t.test`"
   ]
  },
  {
   "cell_type": "markdown",
   "metadata": {},
   "source": [
    "Los niveles de glucosa en pacientes diabéticos despues de consumir una barra energética baja en azúcar no aumenta el nivel de glucosa en más de 10 miligramos por decilitro (mg/dL)"
   ]
  },
  {
   "cell_type": "markdown",
   "metadata": {},
   "source": [
    "$H_0: \\mu_{d} \\leq 10$\\\n",
    "$H_A: \\mu_{d}  > 10$\\\n",
    "$\\alpha = 0.05$"
   ]
  },
  {
   "cell_type": "code",
   "execution_count": 8,
   "metadata": {
    "vscode": {
     "languageId": "r"
    }
   },
   "outputs": [
    {
     "data": {
      "text/html": [
       "<table class=\"dataframe\">\n",
       "<caption>A data.frame: 30 × 4</caption>\n",
       "<thead>\n",
       "\t<tr><th scope=col>paciente</th><th scope=col>despues</th><th scope=col>antes</th><th scope=col>d</th></tr>\n",
       "\t<tr><th scope=col>&lt;int&gt;</th><th scope=col>&lt;dbl&gt;</th><th scope=col>&lt;dbl&gt;</th><th scope=col>&lt;dbl&gt;</th></tr>\n",
       "</thead>\n",
       "<tbody>\n",
       "\t<tr><td> 1</td><td>100</td><td> 95</td><td>5</td></tr>\n",
       "\t<tr><td> 2</td><td>105</td><td>102</td><td>3</td></tr>\n",
       "\t<tr><td> 3</td><td> 92</td><td> 88</td><td>4</td></tr>\n",
       "\t<tr><td> 4</td><td>118</td><td>115</td><td>3</td></tr>\n",
       "\t<tr><td> 5</td><td>108</td><td>105</td><td>3</td></tr>\n",
       "\t<tr><td> 6</td><td> 95</td><td> 92</td><td>3</td></tr>\n",
       "\t<tr><td> 7</td><td>112</td><td>110</td><td>2</td></tr>\n",
       "\t<tr><td> 8</td><td>103</td><td> 98</td><td>5</td></tr>\n",
       "\t<tr><td> 9</td><td>106</td><td>103</td><td>3</td></tr>\n",
       "\t<tr><td>10</td><td> 91</td><td> 89</td><td>2</td></tr>\n",
       "\t<tr><td>11</td><td>102</td><td> 99</td><td>3</td></tr>\n",
       "\t<tr><td>12</td><td>110</td><td>107</td><td>3</td></tr>\n",
       "\t<tr><td>13</td><td>100</td><td> 97</td><td>3</td></tr>\n",
       "\t<tr><td>14</td><td>125</td><td>120</td><td>5</td></tr>\n",
       "\t<tr><td>15</td><td>108</td><td>104</td><td>4</td></tr>\n",
       "\t<tr><td>16</td><td>111</td><td>108</td><td>3</td></tr>\n",
       "\t<tr><td>17</td><td> 95</td><td> 93</td><td>2</td></tr>\n",
       "\t<tr><td>18</td><td>104</td><td>100</td><td>4</td></tr>\n",
       "\t<tr><td>19</td><td>105</td><td>101</td><td>4</td></tr>\n",
       "\t<tr><td>20</td><td>115</td><td>111</td><td>4</td></tr>\n",
       "\t<tr><td>21</td><td> 97</td><td> 94</td><td>3</td></tr>\n",
       "\t<tr><td>22</td><td>119</td><td>116</td><td>3</td></tr>\n",
       "\t<tr><td>23</td><td> 93</td><td> 90</td><td>3</td></tr>\n",
       "\t<tr><td>24</td><td>115</td><td>112</td><td>3</td></tr>\n",
       "\t<tr><td>25</td><td>117</td><td>113</td><td>4</td></tr>\n",
       "\t<tr><td>26</td><td> 94</td><td> 91</td><td>3</td></tr>\n",
       "\t<tr><td>27</td><td> 99</td><td> 96</td><td>3</td></tr>\n",
       "\t<tr><td>28</td><td>113</td><td>109</td><td>4</td></tr>\n",
       "\t<tr><td>29</td><td>109</td><td>106</td><td>3</td></tr>\n",
       "\t<tr><td>30</td><td>118</td><td>114</td><td>4</td></tr>\n",
       "</tbody>\n",
       "</table>\n"
      ],
      "text/latex": [
       "A data.frame: 30 × 4\n",
       "\\begin{tabular}{llll}\n",
       " paciente & despues & antes & d\\\\\n",
       " <int> & <dbl> & <dbl> & <dbl>\\\\\n",
       "\\hline\n",
       "\t  1 & 100 &  95 & 5\\\\\n",
       "\t  2 & 105 & 102 & 3\\\\\n",
       "\t  3 &  92 &  88 & 4\\\\\n",
       "\t  4 & 118 & 115 & 3\\\\\n",
       "\t  5 & 108 & 105 & 3\\\\\n",
       "\t  6 &  95 &  92 & 3\\\\\n",
       "\t  7 & 112 & 110 & 2\\\\\n",
       "\t  8 & 103 &  98 & 5\\\\\n",
       "\t  9 & 106 & 103 & 3\\\\\n",
       "\t 10 &  91 &  89 & 2\\\\\n",
       "\t 11 & 102 &  99 & 3\\\\\n",
       "\t 12 & 110 & 107 & 3\\\\\n",
       "\t 13 & 100 &  97 & 3\\\\\n",
       "\t 14 & 125 & 120 & 5\\\\\n",
       "\t 15 & 108 & 104 & 4\\\\\n",
       "\t 16 & 111 & 108 & 3\\\\\n",
       "\t 17 &  95 &  93 & 2\\\\\n",
       "\t 18 & 104 & 100 & 4\\\\\n",
       "\t 19 & 105 & 101 & 4\\\\\n",
       "\t 20 & 115 & 111 & 4\\\\\n",
       "\t 21 &  97 &  94 & 3\\\\\n",
       "\t 22 & 119 & 116 & 3\\\\\n",
       "\t 23 &  93 &  90 & 3\\\\\n",
       "\t 24 & 115 & 112 & 3\\\\\n",
       "\t 25 & 117 & 113 & 4\\\\\n",
       "\t 26 &  94 &  91 & 3\\\\\n",
       "\t 27 &  99 &  96 & 3\\\\\n",
       "\t 28 & 113 & 109 & 4\\\\\n",
       "\t 29 & 109 & 106 & 3\\\\\n",
       "\t 30 & 118 & 114 & 4\\\\\n",
       "\\end{tabular}\n"
      ],
      "text/markdown": [
       "\n",
       "A data.frame: 30 × 4\n",
       "\n",
       "| paciente &lt;int&gt; | despues &lt;dbl&gt; | antes &lt;dbl&gt; | d &lt;dbl&gt; |\n",
       "|---|---|---|---|\n",
       "|  1 | 100 |  95 | 5 |\n",
       "|  2 | 105 | 102 | 3 |\n",
       "|  3 |  92 |  88 | 4 |\n",
       "|  4 | 118 | 115 | 3 |\n",
       "|  5 | 108 | 105 | 3 |\n",
       "|  6 |  95 |  92 | 3 |\n",
       "|  7 | 112 | 110 | 2 |\n",
       "|  8 | 103 |  98 | 5 |\n",
       "|  9 | 106 | 103 | 3 |\n",
       "| 10 |  91 |  89 | 2 |\n",
       "| 11 | 102 |  99 | 3 |\n",
       "| 12 | 110 | 107 | 3 |\n",
       "| 13 | 100 |  97 | 3 |\n",
       "| 14 | 125 | 120 | 5 |\n",
       "| 15 | 108 | 104 | 4 |\n",
       "| 16 | 111 | 108 | 3 |\n",
       "| 17 |  95 |  93 | 2 |\n",
       "| 18 | 104 | 100 | 4 |\n",
       "| 19 | 105 | 101 | 4 |\n",
       "| 20 | 115 | 111 | 4 |\n",
       "| 21 |  97 |  94 | 3 |\n",
       "| 22 | 119 | 116 | 3 |\n",
       "| 23 |  93 |  90 | 3 |\n",
       "| 24 | 115 | 112 | 3 |\n",
       "| 25 | 117 | 113 | 4 |\n",
       "| 26 |  94 |  91 | 3 |\n",
       "| 27 |  99 |  96 | 3 |\n",
       "| 28 | 113 | 109 | 4 |\n",
       "| 29 | 109 | 106 | 3 |\n",
       "| 30 | 118 | 114 | 4 |\n",
       "\n"
      ],
      "text/plain": [
       "   paciente despues antes d\n",
       "1   1       100      95   5\n",
       "2   2       105     102   3\n",
       "3   3        92      88   4\n",
       "4   4       118     115   3\n",
       "5   5       108     105   3\n",
       "6   6        95      92   3\n",
       "7   7       112     110   2\n",
       "8   8       103      98   5\n",
       "9   9       106     103   3\n",
       "10 10        91      89   2\n",
       "11 11       102      99   3\n",
       "12 12       110     107   3\n",
       "13 13       100      97   3\n",
       "14 14       125     120   5\n",
       "15 15       108     104   4\n",
       "16 16       111     108   3\n",
       "17 17        95      93   2\n",
       "18 18       104     100   4\n",
       "19 19       105     101   4\n",
       "20 20       115     111   4\n",
       "21 21        97      94   3\n",
       "22 22       119     116   3\n",
       "23 23        93      90   3\n",
       "24 24       115     112   3\n",
       "25 25       117     113   4\n",
       "26 26        94      91   3\n",
       "27 27        99      96   3\n",
       "28 28       113     109   4\n",
       "29 29       109     106   3\n",
       "30 30       118     114   4"
      ]
     },
     "metadata": {},
     "output_type": "display_data"
    }
   ],
   "source": [
    "paciente <- seq(1, 30)\n",
    "antes <- c(95, 102, 88, 115, 105, 92, 110, 98, 103, 89,\n",
    "           99, 107, 97, 120, 104, 108, 93, 100, 101, 111,\n",
    "           94, 116, 90, 112, 113, 91, 96, 109, 106, 114)\n",
    "despues <- c(100, 105, 92, 118, 108, 95, 112, 103, 106, 91,\n",
    "             102, 110, 100, 125, 108, 111, 95, 104, 105, 115,\n",
    "             97, 119, 93, 115, 117, 94, 99, 113, 109, 118)\n",
    "d <- despues - antes\n",
    "df <- data.frame(paciente, despues, antes, d)\n",
    "df"
   ]
  },
  {
   "cell_type": "code",
   "execution_count": 9,
   "metadata": {
    "vscode": {
     "languageId": "r"
    }
   },
   "outputs": [],
   "source": [
    "s2 <- var(d)\n",
    "n <- length(d)\n",
    "df <- n - 1\n",
    "d_bar <- mean(d)\n",
    "s_dbar <- sd(d) / sqrt(n)"
   ]
  },
  {
   "cell_type": "code",
   "execution_count": 15,
   "metadata": {
    "vscode": {
     "languageId": "r"
    }
   },
   "outputs": [
    {
     "data": {
      "text/html": [
       "-44.9258126999243"
      ],
      "text/latex": [
       "-44.9258126999243"
      ],
      "text/markdown": [
       "-44.9258126999243"
      ],
      "text/plain": [
       "[1] -44.92581"
      ]
     },
     "metadata": {},
     "output_type": "display_data"
    }
   ],
   "source": [
    "t <- (mean(d)-10) / s_dbar\n",
    "t"
   ]
  },
  {
   "cell_type": "code",
   "execution_count": 16,
   "metadata": {
    "vscode": {
     "languageId": "r"
    }
   },
   "outputs": [
    {
     "data": {
      "text/html": [
       "1.6991270265335"
      ],
      "text/latex": [
       "1.6991270265335"
      ],
      "text/markdown": [
       "1.6991270265335"
      ],
      "text/plain": [
       "[1] 1.699127"
      ]
     },
     "metadata": {},
     "output_type": "display_data"
    }
   ],
   "source": [
    "tc <- qt(0.95, length(d)-1)\n",
    "tc"
   ]
  },
  {
   "cell_type": "code",
   "execution_count": 14,
   "metadata": {
    "vscode": {
     "languageId": "r"
    }
   },
   "outputs": [
    {
     "data": {
      "text/html": [
       "TRUE"
      ],
      "text/latex": [
       "TRUE"
      ],
      "text/markdown": [
       "TRUE"
      ],
      "text/plain": [
       "[1] TRUE"
      ]
     },
     "metadata": {},
     "output_type": "display_data"
    }
   ],
   "source": [
    "t<tc"
   ]
  },
  {
   "cell_type": "code",
   "execution_count": 17,
   "metadata": {
    "vscode": {
     "languageId": "r"
    }
   },
   "outputs": [
    {
     "data": {
      "image/png": "[encoded data removed]",
      "text/plain": [
       "plot without title"
      ]
     },
     "metadata": {
      "image/png": {
       "height": 420,
       "width": 420
      }
     },
     "output_type": "display_data"
    }
   ],
   "source": [
    "x <- seq(-12, 12, 0.01)\n",
    "d1 <- dt(x, df = length(d) - 1)\n",
    "\n",
    "plot(x, d1, t = \"l\")\n",
    "\n",
    "# t0.05(2)340\n",
    "abline(v = tc, col = \"red\")\n",
    "abline(v = t, col = \"blue\")"
   ]
  },
  {
   "cell_type": "markdown",
   "metadata": {},
   "source": [
    "$n = 5$"
   ]
  },
  {
   "cell_type": "markdown",
   "metadata": {},
   "source": [
    "$s_{\\bar{d}} = \\frac{s_d}{\\sqrt{n_d}}$"
   ]
  },
  {
   "cell_type": "markdown",
   "metadata": {},
   "source": [
    "$t=\\frac{\\bar{d}-\\mu}{s_{\\bar{d}}}$\\\n",
    "$\\mu = 10$"
   ]
  },
  {
   "cell_type": "code",
   "execution_count": 19,
   "metadata": {
    "vscode": {
     "languageId": "r"
    }
   },
   "outputs": [
    {
     "data": {
      "text/plain": [
       "\n",
       "\tPaired t-test\n",
       "\n",
       "data:  despues and antes\n",
       "t = -44.926, df = 29, p-value = 1\n",
       "alternative hypothesis: true mean difference is greater than 10\n",
       "95 percent confidence interval:\n",
       " 3.115789      Inf\n",
       "sample estimates:\n",
       "mean difference \n",
       "       3.366667 \n"
      ]
     },
     "metadata": {},
     "output_type": "display_data"
    }
   ],
   "source": [
    "t.test(despues, antes, paired = TRUE, alternative = \"greater\", mu = 10)"
   ]
  }
 ],
 "metadata": {
  "kernelspec": {
   "display_name": "R",
   "language": "R",
   "name": "ir"
  },
  "language_info": {
   "codemirror_mode": "r",
   "file_extension": ".r",
   "mimetype": "text/x-r-source",
   "name": "R",
   "pygments_lexer": "r",
   "version": "4.4.1"
  }
 },
 "nbformat": 4,
 "nbformat_minor": 2
}
